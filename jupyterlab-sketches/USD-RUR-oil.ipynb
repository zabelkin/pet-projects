{
 "cells": [
  {
   "cell_type": "markdown",
   "metadata": {},
   "source": [
    "### USD/RUR forex rate correlation to oil price\n",
    "---\n",
    "+ data source: FINAM.ru <https://www.finam.ru/profile/tovary/brent/export/?market=24>\n",
    "+ dates: 2010-05-01 to 2020-04-30\n",
    "+ ticks: USDRUB and ICE.BRN"
   ]
  },
  {
   "cell_type": "code",
   "execution_count": 52,
   "metadata": {},
   "outputs": [],
   "source": [
    "import pandas as pd"
   ]
  },
  {
   "cell_type": "code",
   "execution_count": 53,
   "metadata": {},
   "outputs": [],
   "source": [
    "# read 10 years data, prepare it\n",
    "forex_data = pd.read_csv(\"USDRUB_100501_200430.csv\", usecols=['<DATE>', '<CLOSE>'])\n",
    "forex_data.columns = ['DATE', 'forex']\n",
    "forex_data.DATE = pd.to_datetime(forex_data.DATE)\n",
    "\n",
    "oil_data = pd.read_csv(\"ICE.BRN_100501_200430.csv\", usecols=['<DATE>', '<CLOSE>'])\n",
    "oil_data.columns = ['DATE', 'oil']\n",
    "oil_data.DATE = pd.to_datetime(oil_data.DATE)"
   ]
  },
  {
   "cell_type": "code",
   "execution_count": 54,
   "metadata": {},
   "outputs": [],
   "source": [
    "# join frames by date\n",
    "forex_data.set_index(\"DATE\", inplace=True)\n",
    "oil_data.set_index(\"DATE\", inplace=True)\n",
    "combined_df = forex_data.join(oil_data)"
   ]
  },
  {
   "cell_type": "code",
   "execution_count": 55,
   "metadata": {},
   "outputs": [
    {
     "data": {
      "text/html": [
       "<div>\n",
       "<style scoped>\n",
       "    .dataframe tbody tr th:only-of-type {\n",
       "        vertical-align: middle;\n",
       "    }\n",
       "\n",
       "    .dataframe tbody tr th {\n",
       "        vertical-align: top;\n",
       "    }\n",
       "\n",
       "    .dataframe thead th {\n",
       "        text-align: right;\n",
       "    }\n",
       "</style>\n",
       "<table border=\"1\" class=\"dataframe\">\n",
       "  <thead>\n",
       "    <tr style=\"text-align: right;\">\n",
       "      <th></th>\n",
       "      <th>forex</th>\n",
       "      <th>oil</th>\n",
       "    </tr>\n",
       "  </thead>\n",
       "  <tbody>\n",
       "    <tr>\n",
       "      <th>forex</th>\n",
       "      <td>1.000000</td>\n",
       "      <td>-0.899689</td>\n",
       "    </tr>\n",
       "    <tr>\n",
       "      <th>oil</th>\n",
       "      <td>-0.899689</td>\n",
       "      <td>1.000000</td>\n",
       "    </tr>\n",
       "  </tbody>\n",
       "</table>\n",
       "</div>"
      ],
      "text/plain": [
       "          forex       oil\n",
       "forex  1.000000 -0.899689\n",
       "oil   -0.899689  1.000000"
      ]
     },
     "execution_count": 55,
     "metadata": {},
     "output_type": "execute_result"
    }
   ],
   "source": [
    "# what's the correlation?\n",
    "combined_df.corr()"
   ]
  },
  {
   "cell_type": "markdown",
   "metadata": {},
   "source": [
    "### Conclusion\n",
    "---\n",
    "+ 2010 May 1 to 2020 Apr 30 statistics says that ruble/usd exchage rate is **strongly correlated** to oil price in usd\n",
    "+ correlarion coefficient = -0.9 (so dynamics is reversed)\n"
   ]
  }
 ],
 "metadata": {
  "kernelspec": {
   "display_name": "Python 3",
   "language": "python",
   "name": "python3"
  },
  "language_info": {
   "codemirror_mode": {
    "name": "ipython",
    "version": 3
   },
   "file_extension": ".py",
   "mimetype": "text/x-python",
   "name": "python",
   "nbconvert_exporter": "python",
   "pygments_lexer": "ipython3",
   "version": "3.8.2"
  }
 },
 "nbformat": 4,
 "nbformat_minor": 4
}
